{
 "cells": [
  {
   "cell_type": "code",
   "execution_count": 1,
   "metadata": {},
   "outputs": [],
   "source": [
    "import numpy as np\n",
    "import pandas as pd\n",
    "import seaborn as sns\n",
    "import matplotlib.pyplot as plt\n",
    "from sklearn.linear_model import LogisticRegression\n",
    "from sklearn.model_selection import cross_val_score\n",
    "from sklearn.model_selection import train_test_split\n",
    "from sklearn.metrics import f1_score"
   ]
  },
  {
   "cell_type": "code",
   "execution_count": 2,
   "metadata": {},
   "outputs": [
    {
     "name": "stderr",
     "output_type": "stream",
     "text": [
      "/opt/app-root/lib/python3.6/site-packages/IPython/core/interactiveshell.py:3058: DtypeWarning: Columns (8,172,173,174,175,176,177,178,179) have mixed types. Specify dtype option on import or set low_memory=False.\n",
      "  interactivity=interactivity, compiler=compiler, result=result)\n"
     ]
    }
   ],
   "source": [
    "from geoband.API import *\n",
    "\n",
    "GetCompasData('PJT002_train.csv')\n",
    "GetCompasData('PJT002_test.csv')\n",
    "GetCompasData('PJT002_validation.csv')\n",
    "GetCompasData('PJT002_submission.csv')\n",
    "\n",
    "train = pd.read_csv('PJT002_train.csv')\n",
    "val = pd.read_csv('PJT002_validation.csv')\n",
    "test = pd.read_csv('PJT002_test.csv')\n",
    "sub = pd.read_csv('PJT002_submission.csv')"
   ]
  },
  {
   "cell_type": "code",
   "execution_count": 3,
   "metadata": {
    "scrolled": true
   },
   "outputs": [
    {
     "name": "stdout",
     "output_type": "stream",
     "text": [
      "Collecting import_ipynb\n",
      "  Downloading https://files.pythonhosted.org/packages/63/35/495e0021bfdcc924c7cdec4e9fbb87c88dd03b9b9b22419444dc370c8a45/import-ipynb-0.1.3.tar.gz\n",
      "Building wheels for collected packages: import-ipynb\n",
      "  Building wheel for import-ipynb (setup.py) ... \u001b[?25ldone\n",
      "\u001b[?25h  Created wheel for import-ipynb: filename=import_ipynb-0.1.3-cp36-none-any.whl size=2975 sha256=03fad9e692017bbac40c6907d01b394e788eaff502b9078a950dbdbeb726aad1\n",
      "  Stored in directory: /tmp/pip-ephem-wheel-cache-tdsv6dh3/wheels/b4/7b/e9/a3a6e496115dffdb4e3085d0ae39ffe8a814eacc44bbf494b5\n",
      "Successfully built import-ipynb\n",
      "Installing collected packages: import-ipynb\n",
      "Successfully installed import-ipynb-0.1.3\n",
      "\u001b[33mWARNING: You are using pip version 19.2.3, however version 19.3.1 is available.\n",
      "You should consider upgrading via the 'pip install --upgrade pip' command.\u001b[0m\n"
     ]
    }
   ],
   "source": [
    "!pip install import_ipynb"
   ]
  },
  {
   "cell_type": "code",
   "execution_count": 4,
   "metadata": {},
   "outputs": [],
   "source": [
    "import import_ipynb\n",
    "import func as fd\n",
    "from matplotlib import font_manager, rc\n",
    "font_name = font_manager.FontProperties(fname='/usr/share/fonts/nhn-nanum/NanumGothicBold.ttf').get_name()\n",
    "rc('font', family=font_name)\n"
   ]
  },
  {
   "cell_type": "code",
   "execution_count": 5,
   "metadata": {},
   "outputs": [],
   "source": [
    "def plot_feature_importance(model, X_train, figsize=(12, 6)):\n",
    "    sns.set_style('darkgrid')\n",
    "    \n",
    "    # Plot feature importance\n",
    "    feature_importance = model.feature_importances_\n",
    "    feature_importance = 100.0 * (feature_importance / feature_importance.max())\n",
    "    sorted_idx = np.argsort(feature_importance)\n",
    "    pos = np.arange(sorted_idx.shape[0]) + .5\n",
    "\n",
    "    plt.figure(figsize=figsize)\n",
    "    plt.barh(pos, feature_importance[sorted_idx], align='center')\n",
    "    plt.yticks(pos, X_train.columns[sorted_idx])\n",
    "    plt.xlabel('Relative Importance')\n",
    "    plt.title('Variable Importance')\n",
    "    plt.show()"
   ]
  },
  {
   "cell_type": "code",
   "execution_count": 6,
   "metadata": {
    "scrolled": false
   },
   "outputs": [
    {
     "name": "stderr",
     "output_type": "stream",
     "text": [
      "/opt/app-root/lib/python3.6/site-packages/IPython/core/interactiveshell.py:3058: DtypeWarning: Columns (8,172,173,174,175,176,177,178,179) have mixed types. Specify dtype option on import or set low_memory=False.\n",
      "  interactivity=interactivity, compiler=compiler, result=result)\n"
     ]
    }
   ],
   "source": [
    "from geoband.API import *\n",
    "\n",
    "GetCompasData('PJT002_train.csv')\n",
    "GetCompasData('PJT002_test.csv')\n",
    "GetCompasData('PJT002_validation.csv')\n",
    "GetCompasData('PJT002_submission.csv')\n",
    "\n",
    "train = pd.read_csv('PJT002_train.csv')\n",
    "val = pd.read_csv('PJT002_validation.csv')\n",
    "test = pd.read_csv('PJT002_test.csv')\n",
    "sub = pd.read_csv('PJT002_submission.csv')"
   ]
  },
  {
   "cell_type": "code",
   "execution_count": 7,
   "metadata": {
    "scrolled": false
   },
   "outputs": [
    {
     "name": "stderr",
     "output_type": "stream",
     "text": [
      "/opt/app-root/src/func.py:129: SettingWithCopyWarning: \n",
      "A value is trying to be set on a copy of a slice from a DataFrame\n",
      "\n",
      "See the caveats in the documentation: http://pandas.pydata.org/pandas-docs/stable/user_guide/indexing.html#returning-a-view-versus-a-copy\n",
      "  data.bldng_ar[(data.bldng_us.notnull())&(data.bldng_ar==0)]=135    #건물면적이 0인데 건물이 존재 -> 건물면적값 중간값(135) 대입\n",
      "/opt/app-root/lib/python3.6/site-packages/pandas/core/generic.py:9114: SettingWithCopyWarning: \n",
      "A value is trying to be set on a copy of a slice from a DataFrame\n",
      "\n",
      "See the caveats in the documentation: http://pandas.pydata.org/pandas-docs/stable/user_guide/indexing.html#returning-a-view-versus-a-copy\n",
      "  self._update_inplace(new_data)\n",
      "/opt/app-root/lib/python3.6/site-packages/ipykernel_launcher.py:1: SettingWithCopyWarning: \n",
      "A value is trying to be set on a copy of a slice from a DataFrame\n",
      "\n",
      "See the caveats in the documentation: http://pandas.pydata.org/pandas-docs/stable/user_guide/indexing.html#returning-a-view-versus-a-copy\n",
      "  \"\"\"Entry point for launching an IPython kernel.\n",
      "/opt/app-root/src/func.py:130: SettingWithCopyWarning: \n",
      "A value is trying to be set on a copy of a slice from a DataFrame\n",
      "\n",
      "See the caveats in the documentation: http://pandas.pydata.org/pandas-docs/stable/user_guide/indexing.html#returning-a-view-versus-a-copy\n",
      "  data.lnd_ar[(data.bldng_us.notnull()) & (data.lnd_ar==0)]=230      #토지면적이 0인데 건물이 존재 -> 토지면적값 중간값(230) 대입\n",
      "/opt/app-root/lib/python3.6/site-packages/ipykernel_launcher.py:2: SettingWithCopyWarning: \n",
      "A value is trying to be set on a copy of a slice from a DataFrame\n",
      "\n",
      "See the caveats in the documentation: http://pandas.pydata.org/pandas-docs/stable/user_guide/indexing.html#returning-a-view-versus-a-copy\n",
      "  \n"
     ]
    }
   ],
   "source": [
    "train=fd.ar_pp(train)\n",
    "val=fd.ar_pp(val)\n",
    "#test=fd.ar_pp(test)"
   ]
  },
  {
   "cell_type": "code",
   "execution_count": 8,
   "metadata": {},
   "outputs": [],
   "source": [
    "c1 = train.columns[172:]\n",
    "c2 = train.columns[137:151]\n",
    "#c3 = train.columns[17:137]\n",
    "X_train = train.drop(c1,1)\n",
    "X_train = X_train.drop(c2,1)\n",
    "\n",
    "X_val = val.drop(c1,1)\n",
    "X_val = X_val.drop(c2,1)\n",
    "\n",
    "test = test.drop(c1,1)\n",
    "test = test.drop(c2,1)\n",
    "\n",
    "y_train = X_train['fr_yn']\n",
    "X_train = X_train.drop(['fr_yn', 'id'], 1)\n",
    "y_val = X_val['fr_yn']\n",
    "X_val = X_val.drop(['fr_yn', 'id'], 1)\n",
    "test = test.drop(['fr_yn', 'id'], 1)"
   ]
  },
  {
   "cell_type": "code",
   "execution_count": 9,
   "metadata": {},
   "outputs": [],
   "source": [
    "all_data = pd.concat([X_train, X_val, test],sort=False)"
   ]
  },
  {
   "cell_type": "code",
   "execution_count": 10,
   "metadata": {
    "scrolled": false
   },
   "outputs": [
    {
     "data": {
      "text/html": [
       "<div>\n",
       "<style scoped>\n",
       "    .dataframe tbody tr th:only-of-type {\n",
       "        vertical-align: middle;\n",
       "    }\n",
       "\n",
       "    .dataframe tbody tr th {\n",
       "        vertical-align: top;\n",
       "    }\n",
       "\n",
       "    .dataframe thead th {\n",
       "        text-align: right;\n",
       "    }\n",
       "</style>\n",
       "<table border=\"1\" class=\"dataframe\">\n",
       "  <thead>\n",
       "    <tr style=\"text-align: right;\">\n",
       "      <th></th>\n",
       "      <th>Missing Ratio</th>\n",
       "    </tr>\n",
       "  </thead>\n",
       "  <tbody>\n",
       "    <tr>\n",
       "      <td>bldng_ar_prc</td>\n",
       "      <td>36.336912</td>\n",
       "    </tr>\n",
       "    <tr>\n",
       "      <td>bldng_us_clssfctn</td>\n",
       "      <td>29.916496</td>\n",
       "    </tr>\n",
       "    <tr>\n",
       "      <td>bldng_us</td>\n",
       "      <td>25.587935</td>\n",
       "    </tr>\n",
       "    <tr>\n",
       "      <td>bldng_archtctr</td>\n",
       "      <td>25.489945</td>\n",
       "    </tr>\n",
       "    <tr>\n",
       "      <td>ele_engry_us_201507</td>\n",
       "      <td>25.443081</td>\n",
       "    </tr>\n",
       "    <tr>\n",
       "      <td>gas_engry_us_201510</td>\n",
       "      <td>25.443081</td>\n",
       "    </tr>\n",
       "    <tr>\n",
       "      <td>ele_engry_us_201509</td>\n",
       "      <td>25.443081</td>\n",
       "    </tr>\n",
       "    <tr>\n",
       "      <td>gas_engry_us_201509</td>\n",
       "      <td>25.443081</td>\n",
       "    </tr>\n",
       "    <tr>\n",
       "      <td>ele_engry_us_201508</td>\n",
       "      <td>25.443081</td>\n",
       "    </tr>\n",
       "    <tr>\n",
       "      <td>gas_engry_us_201508</td>\n",
       "      <td>25.443081</td>\n",
       "    </tr>\n",
       "    <tr>\n",
       "      <td>ele_engry_us_201506</td>\n",
       "      <td>25.443081</td>\n",
       "    </tr>\n",
       "    <tr>\n",
       "      <td>gas_engry_us_201507</td>\n",
       "      <td>25.443081</td>\n",
       "    </tr>\n",
       "    <tr>\n",
       "      <td>gas_engry_us_201511</td>\n",
       "      <td>25.443081</td>\n",
       "    </tr>\n",
       "    <tr>\n",
       "      <td>gas_engry_us_201506</td>\n",
       "      <td>25.443081</td>\n",
       "    </tr>\n",
       "    <tr>\n",
       "      <td>ele_engry_us_201505</td>\n",
       "      <td>25.443081</td>\n",
       "    </tr>\n",
       "    <tr>\n",
       "      <td>gas_engry_us_201505</td>\n",
       "      <td>25.443081</td>\n",
       "    </tr>\n",
       "    <tr>\n",
       "      <td>ele_engry_us_201504</td>\n",
       "      <td>25.443081</td>\n",
       "    </tr>\n",
       "    <tr>\n",
       "      <td>ele_engry_us_201510</td>\n",
       "      <td>25.443081</td>\n",
       "    </tr>\n",
       "    <tr>\n",
       "      <td>gas_engry_us_201512</td>\n",
       "      <td>25.443081</td>\n",
       "    </tr>\n",
       "    <tr>\n",
       "      <td>ele_engry_us_201511</td>\n",
       "      <td>25.443081</td>\n",
       "    </tr>\n",
       "    <tr>\n",
       "      <td>ele_engry_us_201503</td>\n",
       "      <td>25.443081</td>\n",
       "    </tr>\n",
       "    <tr>\n",
       "      <td>ele_engry_us_201512</td>\n",
       "      <td>25.443081</td>\n",
       "    </tr>\n",
       "    <tr>\n",
       "      <td>gas_engry_us_201601</td>\n",
       "      <td>25.443081</td>\n",
       "    </tr>\n",
       "    <tr>\n",
       "      <td>ele_engry_us_201601</td>\n",
       "      <td>25.443081</td>\n",
       "    </tr>\n",
       "    <tr>\n",
       "      <td>gas_engry_us_201602</td>\n",
       "      <td>25.443081</td>\n",
       "    </tr>\n",
       "    <tr>\n",
       "      <td>ele_engry_us_201602</td>\n",
       "      <td>25.443081</td>\n",
       "    </tr>\n",
       "    <tr>\n",
       "      <td>gas_engry_us_201603</td>\n",
       "      <td>25.443081</td>\n",
       "    </tr>\n",
       "    <tr>\n",
       "      <td>ele_engry_us_201603</td>\n",
       "      <td>25.443081</td>\n",
       "    </tr>\n",
       "    <tr>\n",
       "      <td>gas_engry_us_201604</td>\n",
       "      <td>25.443081</td>\n",
       "    </tr>\n",
       "    <tr>\n",
       "      <td>ele_engry_us_201604</td>\n",
       "      <td>25.443081</td>\n",
       "    </tr>\n",
       "  </tbody>\n",
       "</table>\n",
       "</div>"
      ],
      "text/plain": [
       "                     Missing Ratio\n",
       "bldng_ar_prc             36.336912\n",
       "bldng_us_clssfctn        29.916496\n",
       "bldng_us                 25.587935\n",
       "bldng_archtctr           25.489945\n",
       "ele_engry_us_201507      25.443081\n",
       "gas_engry_us_201510      25.443081\n",
       "ele_engry_us_201509      25.443081\n",
       "gas_engry_us_201509      25.443081\n",
       "ele_engry_us_201508      25.443081\n",
       "gas_engry_us_201508      25.443081\n",
       "ele_engry_us_201506      25.443081\n",
       "gas_engry_us_201507      25.443081\n",
       "gas_engry_us_201511      25.443081\n",
       "gas_engry_us_201506      25.443081\n",
       "ele_engry_us_201505      25.443081\n",
       "gas_engry_us_201505      25.443081\n",
       "ele_engry_us_201504      25.443081\n",
       "ele_engry_us_201510      25.443081\n",
       "gas_engry_us_201512      25.443081\n",
       "ele_engry_us_201511      25.443081\n",
       "ele_engry_us_201503      25.443081\n",
       "ele_engry_us_201512      25.443081\n",
       "gas_engry_us_201601      25.443081\n",
       "ele_engry_us_201601      25.443081\n",
       "gas_engry_us_201602      25.443081\n",
       "ele_engry_us_201602      25.443081\n",
       "gas_engry_us_201603      25.443081\n",
       "ele_engry_us_201603      25.443081\n",
       "gas_engry_us_201604      25.443081\n",
       "ele_engry_us_201604      25.443081"
      ]
     },
     "execution_count": 10,
     "metadata": {},
     "output_type": "execute_result"
    }
   ],
   "source": [
    "all_na = (all_data.isnull().sum() / len(all_data))*100\n",
    "all_na = all_na[all_na<50]\n",
    "all_na = all_na.drop(all_na[all_na==0].index).sort_values(ascending=False)[:30]\n",
    "missing_data = pd.DataFrame({'Missing Ratio' : all_na})\n",
    "missing_data.head(30)"
   ]
  },
  {
   "cell_type": "code",
   "execution_count": 11,
   "metadata": {
    "scrolled": false
   },
   "outputs": [
    {
     "data": {
      "text/plain": [
       "Text(0.5, 1.0, 'Percent missing data by feature')"
      ]
     },
     "execution_count": 11,
     "metadata": {},
     "output_type": "execute_result"
    },
    {
     "data": {
      "image/png": "[encoded data removed]",
      "text/plain": [
       "<Figure size 1080x864 with 1 Axes>"
      ]
     },
     "metadata": {
      "needs_background": "light"
     },
     "output_type": "display_data"
    }
   ],
   "source": [
    "fig, ax = plt.subplots(figsize=(15,12))\n",
    "plt.xticks(rotation='90')\n",
    "sns.barplot(x=all_na.index, y=all_na)\n",
    "plt.xlabel('Features', fontsize=15)\n",
    "plt.ylabel('Percent of missing values', fontsize=15)\n",
    "plt.title('Percent missing data by feature', fontsize=15)"
   ]
  },
  {
   "cell_type": "code",
   "execution_count": 12,
   "metadata": {},
   "outputs": [
    {
     "name": "stderr",
     "output_type": "stream",
     "text": [
      "/opt/app-root/lib/python3.6/site-packages/pandas/core/ops/__init__.py:1115: FutureWarning: elementwise comparison failed; returning scalar instead, but in the future will perform elementwise comparison\n",
      "  result = method(y)\n"
     ]
    }
   ],
   "source": [
    "all_data=fd.dt_of_fr_pp(all_data)\n",
    "all_data=fd.dt_of_athrztn_pp(all_data)\n",
    "all_data=fd.season_pp(all_data)\n",
    "all_data=fd.flr_pp(all_data)\n",
    "all_data=fd.fr_wthr_fclt_pp(all_data)\n",
    "all_data=fd.bldng_clssfctn_pp(all_data)\n",
    "\n",
    "all_data=fd.wnd_modi(all_data)\n",
    "all_data=fd.prcpttn_modi(all_data)"
   ]
  },
  {
   "cell_type": "code",
   "execution_count": 13,
   "metadata": {},
   "outputs": [],
   "source": [
    "train.fr_yn = train.fr_yn.map({'Y':1,'N':0})"
   ]
  },
  {
   "cell_type": "code",
   "execution_count": 14,
   "metadata": {
    "scrolled": false
   },
   "outputs": [
    {
     "data": {
      "text/html": [
       "<div>\n",
       "<style scoped>\n",
       "    .dataframe tbody tr th:only-of-type {\n",
       "        vertical-align: middle;\n",
       "    }\n",
       "\n",
       "    .dataframe tbody tr th {\n",
       "        vertical-align: top;\n",
       "    }\n",
       "\n",
       "    .dataframe thead th {\n",
       "        text-align: right;\n",
       "    }\n",
       "</style>\n",
       "<table border=\"1\" class=\"dataframe\">\n",
       "  <thead>\n",
       "    <tr style=\"text-align: right;\">\n",
       "      <th></th>\n",
       "      <th>bldng_us</th>\n",
       "      <th>fr_yn</th>\n",
       "    </tr>\n",
       "  </thead>\n",
       "  <tbody>\n",
       "    <tr>\n",
       "      <td>11</td>\n",
       "      <td>묘지관련시설</td>\n",
       "      <td>1.000000</td>\n",
       "    </tr>\n",
       "    <tr>\n",
       "      <td>3</td>\n",
       "      <td>관광휴게시설</td>\n",
       "      <td>0.818182</td>\n",
       "    </tr>\n",
       "    <tr>\n",
       "      <td>6</td>\n",
       "      <td>교정및군사시설</td>\n",
       "      <td>0.750000</td>\n",
       "    </tr>\n",
       "    <tr>\n",
       "      <td>15</td>\n",
       "      <td>분뇨.쓰레기처리시설</td>\n",
       "      <td>0.739130</td>\n",
       "    </tr>\n",
       "    <tr>\n",
       "      <td>32</td>\n",
       "      <td>판매시설</td>\n",
       "      <td>0.714286</td>\n",
       "    </tr>\n",
       "    <tr>\n",
       "      <td>16</td>\n",
       "      <td>수련시설</td>\n",
       "      <td>0.700000</td>\n",
       "    </tr>\n",
       "    <tr>\n",
       "      <td>26</td>\n",
       "      <td>장례식장</td>\n",
       "      <td>0.666667</td>\n",
       "    </tr>\n",
       "    <tr>\n",
       "      <td>24</td>\n",
       "      <td>의료시설</td>\n",
       "      <td>0.666667</td>\n",
       "    </tr>\n",
       "    <tr>\n",
       "      <td>21</td>\n",
       "      <td>운수시설</td>\n",
       "      <td>0.666667</td>\n",
       "    </tr>\n",
       "    <tr>\n",
       "      <td>25</td>\n",
       "      <td>자동차관련시설</td>\n",
       "      <td>0.642857</td>\n",
       "    </tr>\n",
       "    <tr>\n",
       "      <td>1</td>\n",
       "      <td>공동주택</td>\n",
       "      <td>0.622703</td>\n",
       "    </tr>\n",
       "    <tr>\n",
       "      <td>2</td>\n",
       "      <td>공장</td>\n",
       "      <td>0.580769</td>\n",
       "    </tr>\n",
       "    <tr>\n",
       "      <td>14</td>\n",
       "      <td>방송통신시설</td>\n",
       "      <td>0.571429</td>\n",
       "    </tr>\n",
       "    <tr>\n",
       "      <td>19</td>\n",
       "      <td>업무시설</td>\n",
       "      <td>0.552000</td>\n",
       "    </tr>\n",
       "    <tr>\n",
       "      <td>12</td>\n",
       "      <td>문화및집회시설</td>\n",
       "      <td>0.517241</td>\n",
       "    </tr>\n",
       "    <tr>\n",
       "      <td>5</td>\n",
       "      <td>교육연구시설</td>\n",
       "      <td>0.514970</td>\n",
       "    </tr>\n",
       "    <tr>\n",
       "      <td>13</td>\n",
       "      <td>발전시설</td>\n",
       "      <td>0.500000</td>\n",
       "    </tr>\n",
       "    <tr>\n",
       "      <td>20</td>\n",
       "      <td>운동시설</td>\n",
       "      <td>0.500000</td>\n",
       "    </tr>\n",
       "    <tr>\n",
       "      <td>22</td>\n",
       "      <td>위락시설</td>\n",
       "      <td>0.500000</td>\n",
       "    </tr>\n",
       "    <tr>\n",
       "      <td>10</td>\n",
       "      <td>동.식물 관련시설</td>\n",
       "      <td>0.444444</td>\n",
       "    </tr>\n",
       "    <tr>\n",
       "      <td>17</td>\n",
       "      <td>숙박시설</td>\n",
       "      <td>0.439024</td>\n",
       "    </tr>\n",
       "    <tr>\n",
       "      <td>4</td>\n",
       "      <td>교육연구및복지시설</td>\n",
       "      <td>0.428571</td>\n",
       "    </tr>\n",
       "    <tr>\n",
       "      <td>29</td>\n",
       "      <td>종교시설</td>\n",
       "      <td>0.418919</td>\n",
       "    </tr>\n",
       "    <tr>\n",
       "      <td>28</td>\n",
       "      <td>제2종근린생활시설</td>\n",
       "      <td>0.378872</td>\n",
       "    </tr>\n",
       "    <tr>\n",
       "      <td>27</td>\n",
       "      <td>제1종근린생활시설</td>\n",
       "      <td>0.350640</td>\n",
       "    </tr>\n",
       "    <tr>\n",
       "      <td>8</td>\n",
       "      <td>노유자시설</td>\n",
       "      <td>0.308943</td>\n",
       "    </tr>\n",
       "    <tr>\n",
       "      <td>30</td>\n",
       "      <td>창고시설</td>\n",
       "      <td>0.287540</td>\n",
       "    </tr>\n",
       "    <tr>\n",
       "      <td>23</td>\n",
       "      <td>위험물저장및처리시설</td>\n",
       "      <td>0.282609</td>\n",
       "    </tr>\n",
       "    <tr>\n",
       "      <td>7</td>\n",
       "      <td>근린생활시설</td>\n",
       "      <td>0.240000</td>\n",
       "    </tr>\n",
       "    <tr>\n",
       "      <td>9</td>\n",
       "      <td>단독주택</td>\n",
       "      <td>0.155820</td>\n",
       "    </tr>\n",
       "    <tr>\n",
       "      <td>18</td>\n",
       "      <td>시장</td>\n",
       "      <td>0.000000</td>\n",
       "    </tr>\n",
       "    <tr>\n",
       "      <td>31</td>\n",
       "      <td>파출소</td>\n",
       "      <td>0.000000</td>\n",
       "    </tr>\n",
       "    <tr>\n",
       "      <td>0</td>\n",
       "      <td>공공용시설</td>\n",
       "      <td>0.000000</td>\n",
       "    </tr>\n",
       "  </tbody>\n",
       "</table>\n",
       "</div>"
      ],
      "text/plain": [
       "      bldng_us     fr_yn\n",
       "11      묘지관련시설  1.000000\n",
       "3       관광휴게시설  0.818182\n",
       "6      교정및군사시설  0.750000\n",
       "15  분뇨.쓰레기처리시설  0.739130\n",
       "32        판매시설  0.714286\n",
       "16        수련시설  0.700000\n",
       "26        장례식장  0.666667\n",
       "24        의료시설  0.666667\n",
       "21        운수시설  0.666667\n",
       "25     자동차관련시설  0.642857\n",
       "1         공동주택  0.622703\n",
       "2           공장  0.580769\n",
       "14      방송통신시설  0.571429\n",
       "19        업무시설  0.552000\n",
       "12     문화및집회시설  0.517241\n",
       "5       교육연구시설  0.514970\n",
       "13        발전시설  0.500000\n",
       "20        운동시설  0.500000\n",
       "22        위락시설  0.500000\n",
       "10   동.식물 관련시설  0.444444\n",
       "17        숙박시설  0.439024\n",
       "4    교육연구및복지시설  0.428571\n",
       "29        종교시설  0.418919\n",
       "28   제2종근린생활시설  0.378872\n",
       "27   제1종근린생활시설  0.350640\n",
       "8        노유자시설  0.308943\n",
       "30        창고시설  0.287540\n",
       "23  위험물저장및처리시설  0.282609\n",
       "7       근린생활시설  0.240000\n",
       "9         단독주택  0.155820\n",
       "18          시장  0.000000\n",
       "31         파출소  0.000000\n",
       "0        공공용시설  0.000000"
      ]
     },
     "execution_count": 14,
     "metadata": {},
     "output_type": "execute_result"
    }
   ],
   "source": [
    "train[['bldng_us', 'fr_yn']].groupby(['bldng_us'], as_index=False).mean().sort_values(by='fr_yn', ascending=False)"
   ]
  },
  {
   "cell_type": "code",
   "execution_count": 15,
   "metadata": {},
   "outputs": [],
   "source": [
    "all_data=fd.bldng_us_pp(all_data)"
   ]
  },
  {
   "cell_type": "code",
   "execution_count": 16,
   "metadata": {
    "scrolled": true
   },
   "outputs": [
    {
     "data": {
      "text/html": [
       "<div>\n",
       "<style scoped>\n",
       "    .dataframe tbody tr th:only-of-type {\n",
       "        vertical-align: middle;\n",
       "    }\n",
       "\n",
       "    .dataframe tbody tr th {\n",
       "        vertical-align: top;\n",
       "    }\n",
       "\n",
       "    .dataframe thead th {\n",
       "        text-align: right;\n",
       "    }\n",
       "</style>\n",
       "<table border=\"1\" class=\"dataframe\">\n",
       "  <thead>\n",
       "    <tr style=\"text-align: right;\">\n",
       "      <th></th>\n",
       "      <th>bldng_archtctr</th>\n",
       "      <th>fr_yn</th>\n",
       "    </tr>\n",
       "  </thead>\n",
       "  <tbody>\n",
       "    <tr>\n",
       "      <td>13</td>\n",
       "      <td>철골철근콘크리트구조</td>\n",
       "      <td>0.675000</td>\n",
       "    </tr>\n",
       "    <tr>\n",
       "      <td>2</td>\n",
       "      <td>기타강구조</td>\n",
       "      <td>0.600000</td>\n",
       "    </tr>\n",
       "    <tr>\n",
       "      <td>11</td>\n",
       "      <td>일반철골구조</td>\n",
       "      <td>0.458450</td>\n",
       "    </tr>\n",
       "    <tr>\n",
       "      <td>14</td>\n",
       "      <td>철골콘크리트구조</td>\n",
       "      <td>0.458333</td>\n",
       "    </tr>\n",
       "    <tr>\n",
       "      <td>3</td>\n",
       "      <td>기타구조</td>\n",
       "      <td>0.444444</td>\n",
       "    </tr>\n",
       "    <tr>\n",
       "      <td>0</td>\n",
       "      <td>강파이프구조</td>\n",
       "      <td>0.428571</td>\n",
       "    </tr>\n",
       "    <tr>\n",
       "      <td>1</td>\n",
       "      <td>경량철골구조</td>\n",
       "      <td>0.416968</td>\n",
       "    </tr>\n",
       "    <tr>\n",
       "      <td>15</td>\n",
       "      <td>철근콘크리트구조</td>\n",
       "      <td>0.386968</td>\n",
       "    </tr>\n",
       "    <tr>\n",
       "      <td>17</td>\n",
       "      <td>프리케스트콘크리트구조</td>\n",
       "      <td>0.384615</td>\n",
       "    </tr>\n",
       "    <tr>\n",
       "      <td>4</td>\n",
       "      <td>기타조적구조</td>\n",
       "      <td>0.255319</td>\n",
       "    </tr>\n",
       "    <tr>\n",
       "      <td>10</td>\n",
       "      <td>일반목구조</td>\n",
       "      <td>0.252016</td>\n",
       "    </tr>\n",
       "    <tr>\n",
       "      <td>8</td>\n",
       "      <td>블록구조</td>\n",
       "      <td>0.202247</td>\n",
       "    </tr>\n",
       "    <tr>\n",
       "      <td>7</td>\n",
       "      <td>벽돌구조</td>\n",
       "      <td>0.110359</td>\n",
       "    </tr>\n",
       "    <tr>\n",
       "      <td>6</td>\n",
       "      <td>목구조</td>\n",
       "      <td>0.090909</td>\n",
       "    </tr>\n",
       "    <tr>\n",
       "      <td>12</td>\n",
       "      <td>조적구조</td>\n",
       "      <td>0.024691</td>\n",
       "    </tr>\n",
       "    <tr>\n",
       "      <td>5</td>\n",
       "      <td>기타콘크리트구조</td>\n",
       "      <td>0.000000</td>\n",
       "    </tr>\n",
       "    <tr>\n",
       "      <td>16</td>\n",
       "      <td>통나무구조</td>\n",
       "      <td>0.000000</td>\n",
       "    </tr>\n",
       "    <tr>\n",
       "      <td>9</td>\n",
       "      <td>석구조</td>\n",
       "      <td>0.000000</td>\n",
       "    </tr>\n",
       "  </tbody>\n",
       "</table>\n",
       "</div>"
      ],
      "text/plain": [
       "   bldng_archtctr     fr_yn\n",
       "13     철골철근콘크리트구조  0.675000\n",
       "2           기타강구조  0.600000\n",
       "11         일반철골구조  0.458450\n",
       "14       철골콘크리트구조  0.458333\n",
       "3            기타구조  0.444444\n",
       "0          강파이프구조  0.428571\n",
       "1          경량철골구조  0.416968\n",
       "15       철근콘크리트구조  0.386968\n",
       "17    프리케스트콘크리트구조  0.384615\n",
       "4          기타조적구조  0.255319\n",
       "10          일반목구조  0.252016\n",
       "8            블록구조  0.202247\n",
       "7            벽돌구조  0.110359\n",
       "6             목구조  0.090909\n",
       "12           조적구조  0.024691\n",
       "5        기타콘크리트구조  0.000000\n",
       "16          통나무구조  0.000000\n",
       "9             석구조  0.000000"
      ]
     },
     "execution_count": 16,
     "metadata": {},
     "output_type": "execute_result"
    }
   ],
   "source": [
    "train[['bldng_archtctr', 'fr_yn']].groupby(['bldng_archtctr'], as_index=False).mean().sort_values(by='fr_yn', ascending=False)"
   ]
  },
  {
   "cell_type": "code",
   "execution_count": 17,
   "metadata": {},
   "outputs": [],
   "source": [
    "all_data=fd.bldng_archtctr_pp(all_data)"
   ]
  },
  {
   "cell_type": "code",
   "execution_count": 18,
   "metadata": {},
   "outputs": [
    {
     "data": {
      "image/png": "[encoded data removed]",
      "text/plain": [
       "<Figure size 1080x504 with 1 Axes>"
      ]
     },
     "metadata": {
      "needs_background": "light"
     },
     "output_type": "display_data"
    }
   ],
   "source": [
    "cummulate_fire_ratio = []\n",
    "for i in range(1, 500):\n",
    "    cummulate_fire_ratio.append(train[train['tbc_rtl_str_dstnc'] < i]['fr_yn'].sum() / len(train[train['tbc_rtl_str_dstnc'] < i]['fr_yn']))\n",
    "    \n",
    "plt.figure(figsize=(15, 7))\n",
    "plt.plot(cummulate_fire_ratio)\n",
    "plt.title('Fire rate change depending on range of distance from a nearest tobacco shop', y=1.02)\n",
    "plt.ylabel('Fire rate')\n",
    "plt.xlabel('Range of distance from a nearest tobacco shop')\n",
    "plt.show()"
   ]
  },
  {
   "cell_type": "code",
   "execution_count": 19,
   "metadata": {
    "scrolled": false
   },
   "outputs": [
    {
     "data": {
      "text/html": [
       "<div>\n",
       "<style scoped>\n",
       "    .dataframe tbody tr th:only-of-type {\n",
       "        vertical-align: middle;\n",
       "    }\n",
       "\n",
       "    .dataframe tbody tr th {\n",
       "        vertical-align: top;\n",
       "    }\n",
       "\n",
       "    .dataframe thead th {\n",
       "        text-align: right;\n",
       "    }\n",
       "</style>\n",
       "<table border=\"1\" class=\"dataframe\">\n",
       "  <thead>\n",
       "    <tr style=\"text-align: right;\">\n",
       "      <th></th>\n",
       "      <th>tbc_rtl_str_dstnc2</th>\n",
       "      <th>fr_yn</th>\n",
       "    </tr>\n",
       "  </thead>\n",
       "  <tbody>\n",
       "    <tr>\n",
       "      <td>0</td>\n",
       "      <td>(-0.001, 260.0]</td>\n",
       "      <td>0.223563</td>\n",
       "    </tr>\n",
       "    <tr>\n",
       "      <td>1</td>\n",
       "      <td>(260.0, 534.0]</td>\n",
       "      <td>0.188437</td>\n",
       "    </tr>\n",
       "    <tr>\n",
       "      <td>2</td>\n",
       "      <td>(534.0, 1852.0]</td>\n",
       "      <td>0.230568</td>\n",
       "    </tr>\n",
       "    <tr>\n",
       "      <td>3</td>\n",
       "      <td>(1852.0, 23228.0]</td>\n",
       "      <td>0.209877</td>\n",
       "    </tr>\n",
       "  </tbody>\n",
       "</table>\n",
       "</div>"
      ],
      "text/plain": [
       "  tbc_rtl_str_dstnc2     fr_yn\n",
       "0    (-0.001, 260.0]  0.223563\n",
       "1     (260.0, 534.0]  0.188437\n",
       "2    (534.0, 1852.0]  0.230568\n",
       "3  (1852.0, 23228.0]  0.209877"
      ]
     },
     "execution_count": 19,
     "metadata": {},
     "output_type": "execute_result"
    }
   ],
   "source": [
    "train['tbc_rtl_str_dstnc2'] = pd.qcut(train['tbc_rtl_str_dstnc'],4)\n",
    "train[['tbc_rtl_str_dstnc2', 'fr_yn']].groupby(['tbc_rtl_str_dstnc2'], as_index=False).mean().sort_values(by='tbc_rtl_str_dstnc2', ascending=True)"
   ]
  },
  {
   "cell_type": "code",
   "execution_count": 20,
   "metadata": {},
   "outputs": [],
   "source": [
    "all_data=fd.tbc_pp(all_data)"
   ]
  },
  {
   "cell_type": "code",
   "execution_count": 21,
   "metadata": {},
   "outputs": [
    {
     "data": {
      "image/png": "[encoded data removed]",
      "text/plain": [
       "<Figure size 1080x504 with 1 Axes>"
      ]
     },
     "metadata": {
      "needs_background": "light"
     },
     "output_type": "display_data"
    }
   ],
   "source": [
    "cummulate_fire_ratio = []\n",
    "for i in range(1, 500):\n",
    "    cummulate_fire_ratio.append(train[train['no_tbc_zn_dstnc'] < i]['fr_yn'].sum() / len(train[train['no_tbc_zn_dstnc'] < i]['fr_yn']))\n",
    "    \n",
    "plt.figure(figsize=(15, 7))\n",
    "plt.plot(cummulate_fire_ratio)\n",
    "plt.title('Fire rate change depending on range of distance from a nearest non-smoking area', y=1.02)\n",
    "plt.ylabel('Fire rate')\n",
    "plt.xlabel('Range of distance from a nearest non-smoking area')\n",
    "plt.show()"
   ]
  },
  {
   "cell_type": "code",
   "execution_count": 22,
   "metadata": {
    "scrolled": true
   },
   "outputs": [
    {
     "data": {
      "text/html": [
       "<div>\n",
       "<style scoped>\n",
       "    .dataframe tbody tr th:only-of-type {\n",
       "        vertical-align: middle;\n",
       "    }\n",
       "\n",
       "    .dataframe tbody tr th {\n",
       "        vertical-align: top;\n",
       "    }\n",
       "\n",
       "    .dataframe thead th {\n",
       "        text-align: right;\n",
       "    }\n",
       "</style>\n",
       "<table border=\"1\" class=\"dataframe\">\n",
       "  <thead>\n",
       "    <tr style=\"text-align: right;\">\n",
       "      <th></th>\n",
       "      <th>no_tbc_zn_dstnc2</th>\n",
       "      <th>fr_yn</th>\n",
       "    </tr>\n",
       "  </thead>\n",
       "  <tbody>\n",
       "    <tr>\n",
       "      <td>0</td>\n",
       "      <td>(-0.001, 39.0]</td>\n",
       "      <td>0.341802</td>\n",
       "    </tr>\n",
       "    <tr>\n",
       "      <td>1</td>\n",
       "      <td>(39.0, 151.0]</td>\n",
       "      <td>0.200335</td>\n",
       "    </tr>\n",
       "    <tr>\n",
       "      <td>2</td>\n",
       "      <td>(151.0, 457.0]</td>\n",
       "      <td>0.108970</td>\n",
       "    </tr>\n",
       "    <tr>\n",
       "      <td>3</td>\n",
       "      <td>(457.0, 16164.0]</td>\n",
       "      <td>0.199905</td>\n",
       "    </tr>\n",
       "  </tbody>\n",
       "</table>\n",
       "</div>"
      ],
      "text/plain": [
       "   no_tbc_zn_dstnc2     fr_yn\n",
       "0    (-0.001, 39.0]  0.341802\n",
       "1     (39.0, 151.0]  0.200335\n",
       "2    (151.0, 457.0]  0.108970\n",
       "3  (457.0, 16164.0]  0.199905"
      ]
     },
     "execution_count": 22,
     "metadata": {},
     "output_type": "execute_result"
    }
   ],
   "source": [
    "train['no_tbc_zn_dstnc2'] = pd.qcut(train['no_tbc_zn_dstnc'],4)\n",
    "train[['no_tbc_zn_dstnc2', 'fr_yn']].groupby(['no_tbc_zn_dstnc2'], as_index=False).mean().sort_values(by='no_tbc_zn_dstnc2', ascending=True)"
   ]
  },
  {
   "cell_type": "code",
   "execution_count": null,
   "metadata": {},
   "outputs": [],
   "source": []
  },
  {
   "cell_type": "code",
   "execution_count": 23,
   "metadata": {},
   "outputs": [
    {
     "name": "stderr",
     "output_type": "stream",
     "text": [
      "/opt/app-root/lib/python3.6/site-packages/seaborn/axisgrid.py:230: UserWarning: The `size` paramter has been renamed to `height`; please update your code.\n",
      "  warnings.warn(msg, UserWarning)\n"
     ]
    },
    {
     "data": {
      "text/plain": [
       "<seaborn.axisgrid.FacetGrid at 0x7fc4c67a11d0>"
      ]
     },
     "execution_count": 23,
     "metadata": {},
     "output_type": "execute_result"
    },
    {
     "data": {
      "image/png": "[encoded data removed]",
      "text/plain": [
       "<Figure size 1206.08x374.4 with 2 Axes>"
      ]
     },
     "metadata": {
      "needs_background": "light"
     },
     "output_type": "display_data"
    }
   ],
   "source": [
    "grid = sns.FacetGrid(train, col='fr_yn', size=5.2, aspect=1.6)\n",
    "grid.map(plt.hist, 'cctv_dstnc', alpha=.5, bins=10)\n",
    "grid.add_legend()"
   ]
  },
  {
   "cell_type": "code",
   "execution_count": 24,
   "metadata": {},
   "outputs": [
    {
     "data": {
      "text/plain": [
       "<seaborn.axisgrid.FacetGrid at 0x7fc4c665c9e8>"
      ]
     },
     "execution_count": 24,
     "metadata": {},
     "output_type": "execute_result"
    },
    {
     "data": {
      "image/png": "[encoded data removed]",
      "text/plain": [
       "<Figure size 1206.08x374.4 with 2 Axes>"
      ]
     },
     "metadata": {
      "needs_background": "light"
     },
     "output_type": "display_data"
    }
   ],
   "source": [
    "grid = sns.FacetGrid(train, col='fr_yn', size=5.2, aspect=1.6)\n",
    "grid.map(plt.hist, 'sft_emrgnc_bll_dstnc', alpha=.5, bins=10)\n",
    "grid.add_legend()"
   ]
  },
  {
   "cell_type": "code",
   "execution_count": 25,
   "metadata": {},
   "outputs": [
    {
     "data": {
      "text/plain": [
       "<seaborn.axisgrid.FacetGrid at 0x7fc4c62d9da0>"
      ]
     },
     "execution_count": 25,
     "metadata": {},
     "output_type": "execute_result"
    },
    {
     "data": {
      "image/png": "[encoded data removed]",
      "text/plain": [
       "<Figure size 1206.08x374.4 with 2 Axes>"
      ]
     },
     "metadata": {
      "needs_background": "light"
     },
     "output_type": "display_data"
    }
   ],
   "source": [
    "grid = sns.FacetGrid(train, col='fr_yn', size=5.2, aspect=1.6)\n",
    "grid.map(plt.hist, 'ahsm_dstnc', alpha=.5, bins=10)\n",
    "grid.add_legend()"
   ]
  },
  {
   "cell_type": "code",
   "execution_count": 26,
   "metadata": {
    "scrolled": true
   },
   "outputs": [
    {
     "data": {
      "text/plain": [
       "<seaborn.axisgrid.FacetGrid at 0x7fc4c62779e8>"
      ]
     },
     "execution_count": 26,
     "metadata": {},
     "output_type": "execute_result"
    },
    {
     "data": {
      "image/png": "[encoded data removed]",
      "text/plain": [
       "<Figure size 1206.08x374.4 with 2 Axes>"
      ]
     },
     "metadata": {
      "needs_background": "light"
     },
     "output_type": "display_data"
    }
   ],
   "source": [
    "grid = sns.FacetGrid(train, col='fr_yn', size=5.2, aspect=1.6)\n",
    "grid.map(plt.hist, 'fr_mn_cnt', alpha=.5, bins=10)\n",
    "grid.add_legend()"
   ]
  },
  {
   "cell_type": "code",
   "execution_count": 27,
   "metadata": {},
   "outputs": [],
   "source": [
    "all_data.loc[all_data['rgnl_ar_nm2'].isnull(), 'rgnl_ar_nm2'] = '지정되지않음'"
   ]
  },
  {
   "cell_type": "code",
   "execution_count": 28,
   "metadata": {},
   "outputs": [],
   "source": [
    "all_data=fd.rgnl_ar_nm_modi(all_data)"
   ]
  },
  {
   "cell_type": "code",
   "execution_count": 29,
   "metadata": {},
   "outputs": [],
   "source": [
    "#all_data['rgnl_ar_nm'] = all_data['rgnl_ar_nm'].astype('category')  \n",
    "# categorycal 타입으로 변경함"
   ]
  },
  {
   "cell_type": "code",
   "execution_count": 30,
   "metadata": {},
   "outputs": [],
   "source": [
    "all_data=fd.lnd_us_sttn_nm_modi1(all_data)"
   ]
  },
  {
   "cell_type": "code",
   "execution_count": 31,
   "metadata": {},
   "outputs": [
    {
     "data": {
      "text/plain": [
       "array(['주거용', '상업.업무용', '주.상복합용', '전', '공업용', '특수토지', '공공용지', nan, '임야',\n",
       "       '답', '기타', '경마장'], dtype=object)"
      ]
     },
     "execution_count": 31,
     "metadata": {},
     "output_type": "execute_result"
    }
   ],
   "source": [
    "all_data['lnd_us_sttn_nm'].unique()\n"
   ]
  },
  {
   "cell_type": "code",
   "execution_count": 32,
   "metadata": {
    "scrolled": true
   },
   "outputs": [],
   "source": [
    "all_data=fd.lnd_us_sttn_nm_modi2(all_data)"
   ]
  },
  {
   "cell_type": "code",
   "execution_count": 33,
   "metadata": {},
   "outputs": [],
   "source": [
    "all_data=fd.emd_nm_modi(all_data)"
   ]
  },
  {
   "cell_type": "code",
   "execution_count": 34,
   "metadata": {
    "scrolled": true
   },
   "outputs": [
    {
     "data": {
      "text/html": [
       "<div>\n",
       "<style scoped>\n",
       "    .dataframe tbody tr th:only-of-type {\n",
       "        vertical-align: middle;\n",
       "    }\n",
       "\n",
       "    .dataframe tbody tr th {\n",
       "        vertical-align: top;\n",
       "    }\n",
       "\n",
       "    .dataframe thead th {\n",
       "        text-align: right;\n",
       "    }\n",
       "</style>\n",
       "<table border=\"1\" class=\"dataframe\">\n",
       "  <thead>\n",
       "    <tr style=\"text-align: right;\">\n",
       "      <th></th>\n",
       "      <th>emd_nm</th>\n",
       "      <th>emd_nm_big</th>\n",
       "      <th>emd_nm_small</th>\n",
       "    </tr>\n",
       "  </thead>\n",
       "  <tbody>\n",
       "    <tr>\n",
       "      <td>2</td>\n",
       "      <td>창녕군 창녕읍</td>\n",
       "      <td>창녕군</td>\n",
       "      <td>창녕읍</td>\n",
       "    </tr>\n",
       "    <tr>\n",
       "      <td>5</td>\n",
       "      <td>창녕군 창녕읍</td>\n",
       "      <td>창녕군</td>\n",
       "      <td>창녕읍</td>\n",
       "    </tr>\n",
       "    <tr>\n",
       "      <td>7</td>\n",
       "      <td>창녕군 창녕읍</td>\n",
       "      <td>창녕군</td>\n",
       "      <td>창녕읍</td>\n",
       "    </tr>\n",
       "    <tr>\n",
       "      <td>12</td>\n",
       "      <td>창녕군 창녕읍</td>\n",
       "      <td>창녕군</td>\n",
       "      <td>창녕읍</td>\n",
       "    </tr>\n",
       "    <tr>\n",
       "      <td>13</td>\n",
       "      <td>창녕군 창녕읍</td>\n",
       "      <td>창녕군</td>\n",
       "      <td>창녕읍</td>\n",
       "    </tr>\n",
       "    <tr>\n",
       "      <td>...</td>\n",
       "      <td>...</td>\n",
       "      <td>...</td>\n",
       "      <td>...</td>\n",
       "    </tr>\n",
       "    <tr>\n",
       "      <td>2952</td>\n",
       "      <td>김해시 내외동</td>\n",
       "      <td>김해시</td>\n",
       "      <td>내외동</td>\n",
       "    </tr>\n",
       "    <tr>\n",
       "      <td>2953</td>\n",
       "      <td>김해시 진영읍</td>\n",
       "      <td>김해시</td>\n",
       "      <td>진영읍</td>\n",
       "    </tr>\n",
       "    <tr>\n",
       "      <td>2954</td>\n",
       "      <td>김해시 내외동</td>\n",
       "      <td>김해시</td>\n",
       "      <td>내외동</td>\n",
       "    </tr>\n",
       "    <tr>\n",
       "      <td>2955</td>\n",
       "      <td>김해시 삼안동</td>\n",
       "      <td>김해시</td>\n",
       "      <td>삼안동</td>\n",
       "    </tr>\n",
       "    <tr>\n",
       "      <td>2956</td>\n",
       "      <td>김해시 칠산서부동</td>\n",
       "      <td>김해시</td>\n",
       "      <td>칠산서부동</td>\n",
       "    </tr>\n",
       "  </tbody>\n",
       "</table>\n",
       "<p>23472 rows × 3 columns</p>\n",
       "</div>"
      ],
      "text/plain": [
       "          emd_nm emd_nm_big emd_nm_small\n",
       "2        창녕군 창녕읍        창녕군          창녕읍\n",
       "5        창녕군 창녕읍        창녕군          창녕읍\n",
       "7        창녕군 창녕읍        창녕군          창녕읍\n",
       "12       창녕군 창녕읍        창녕군          창녕읍\n",
       "13       창녕군 창녕읍        창녕군          창녕읍\n",
       "...          ...        ...          ...\n",
       "2952     김해시 내외동        김해시          내외동\n",
       "2953     김해시 진영읍        김해시          진영읍\n",
       "2954     김해시 내외동        김해시          내외동\n",
       "2955     김해시 삼안동        김해시          삼안동\n",
       "2956   김해시 칠산서부동        김해시        칠산서부동\n",
       "\n",
       "[23472 rows x 3 columns]"
      ]
     },
     "execution_count": 34,
     "metadata": {},
     "output_type": "execute_result"
    }
   ],
   "source": [
    "all_data[['emd_nm','emd_nm_big','emd_nm_small']]"
   ]
  },
  {
   "cell_type": "code",
   "execution_count": 35,
   "metadata": {},
   "outputs": [],
   "source": [
    "all_data=fd.hm_cnt_modi(all_data)"
   ]
  },
  {
   "cell_type": "code",
   "execution_count": 36,
   "metadata": {},
   "outputs": [
    {
     "data": {
      "text/plain": [
       "49"
      ]
     },
     "execution_count": 36,
     "metadata": {},
     "output_type": "execute_result"
    }
   ],
   "source": [
    "all_data['hm_cnt'].isnull().sum()"
   ]
  },
  {
   "cell_type": "code",
   "execution_count": 37,
   "metadata": {},
   "outputs": [],
   "source": [
    "all_data.loc[all_data['hm_cnt'].isnull(), 'emd_nm_small'] = round(all_data['hm_cnt'].mean())\n",
    "# na값 인구 평균으로 치환"
   ]
  },
  {
   "cell_type": "code",
   "execution_count": 38,
   "metadata": {},
   "outputs": [
    {
     "data": {
      "text/plain": [
       "세로한면(가)    6409\n",
       "소로한면       5991\n",
       "세로한면(불)    2467\n",
       "소로각지       2152\n",
       "중로한면       1852\n",
       "중로각지       1615\n",
       "세로각지(가)     692\n",
       "광대로한면       585\n",
       "광대소각        578\n",
       "맹지          163\n",
       "세로각지(불)     104\n",
       "광대세각         79\n",
       "지정되지않음       55\n",
       "Name: rd_sd_nm, dtype: int64"
      ]
     },
     "execution_count": 38,
     "metadata": {},
     "output_type": "execute_result"
    }
   ],
   "source": [
    "all_data['rd_sd_nm'].value_counts()"
   ]
  },
  {
   "cell_type": "code",
   "execution_count": 39,
   "metadata": {},
   "outputs": [],
   "source": [
    "all_data.loc[all_data['rd_sd_nm'].isnull(), 'rd_sd_nm'] = '세로한면(가)'\n",
    "# 최빈값으로 na 대체"
   ]
  },
  {
   "cell_type": "code",
   "execution_count": 40,
   "metadata": {},
   "outputs": [],
   "source": [
    "all_data = all_data.drop('bldng_ar_prc', axis = 1)\n",
    "# 건물가격 컬럼 삭제"
   ]
  },
  {
   "cell_type": "code",
   "execution_count": 41,
   "metadata": {
    "scrolled": true
   },
   "outputs": [
    {
     "name": "stderr",
     "output_type": "stream",
     "text": [
      "/opt/app-root/lib/python3.6/site-packages/ipykernel_launcher.py:3: RuntimeWarning: invalid value encountered in long_scalars\n",
      "  This is separate from the ipykernel package so we can avoid doing imports until\n"
     ]
    },
    {
     "data": {
      "image/png": "[encoded data removed]",
      "text/plain": [
       "<Figure size 1080x504 with 1 Axes>"
      ]
     },
     "metadata": {
      "needs_background": "light"
     },
     "output_type": "display_data"
    }
   ],
   "source": [
    "cummulate_fire_ratio = []\n",
    "for i in range(1, 500):\n",
    "    cummulate_fire_ratio.append(train[train['fr_sttn_dstnc'] < i]['fr_yn'].sum() / len(train[train['fr_sttn_dstnc'] < i]['fr_yn']))\n",
    "    \n",
    "plt.figure(figsize=(15, 7))\n",
    "plt.plot(cummulate_fire_ratio)\n",
    "plt.title('119 안전센터와의 거리와 화재발생', y=1.02)\n",
    "plt.ylabel('Fire rate')\n",
    "plt.xlabel('Range of distance from a nearest tobacco shop')\n",
    "plt.show()"
   ]
  },
  {
   "cell_type": "code",
   "execution_count": 42,
   "metadata": {},
   "outputs": [
    {
     "data": {
      "text/plain": [
       "<seaborn.axisgrid.FacetGrid at 0x7fc4c64c5c18>"
      ]
     },
     "execution_count": 42,
     "metadata": {},
     "output_type": "execute_result"
    },
    {
     "data": {
      "image/png": "[encoded data removed]",
      "text/plain": [
       "<Figure size 1206.08x374.4 with 2 Axes>"
      ]
     },
     "metadata": {
      "needs_background": "light"
     },
     "output_type": "display_data"
    }
   ],
   "source": [
    "grid = sns.FacetGrid(train, col='fr_yn', size=5.2, aspect=1.6)\n",
    "grid.map(plt.hist, 'hm_cnt', alpha=.5, bins=10)\n",
    "grid.add_legend()"
   ]
  },
  {
   "cell_type": "code",
   "execution_count": 43,
   "metadata": {},
   "outputs": [
    {
     "data": {
      "text/plain": [
       "<seaborn.axisgrid.FacetGrid at 0x7fc499816a20>"
      ]
     },
     "execution_count": 43,
     "metadata": {},
     "output_type": "execute_result"
    },
    {
     "data": {
      "image/png": "[encoded data removed]",
      "text/plain": [
       "<Figure size 1206.08x374.4 with 2 Axes>"
      ]
     },
     "metadata": {
      "needs_background": "light"
     },
     "output_type": "display_data"
    }
   ],
   "source": [
    "grid = sns.FacetGrid(train, col='fr_yn', size=5.2, aspect=1.6)\n",
    "grid.map(plt.hist, 'fr_sttn_dstnc', alpha=.5, bins=10)\n",
    "grid.add_legend()"
   ]
  },
  {
   "cell_type": "code",
   "execution_count": 44,
   "metadata": {},
   "outputs": [],
   "source": [
    "data=train"
   ]
  },
  {
   "cell_type": "code",
   "execution_count": 45,
   "metadata": {
    "scrolled": false
   },
   "outputs": [
    {
     "name": "stderr",
     "output_type": "stream",
     "text": [
      "/opt/app-root/lib/python3.6/site-packages/ipykernel_launcher.py:10: SettingWithCopyWarning: \n",
      "A value is trying to be set on a copy of a slice from a DataFrame\n",
      "\n",
      "See the caveats in the documentation: http://pandas.pydata.org/pandas-docs/stable/user_guide/indexing.html#returning-a-view-versus-a-copy\n",
      "  # Remove the CWD from sys.path while we load stuff.\n"
     ]
    },
    {
     "data": {
      "text/html": [
       "<div>\n",
       "<style scoped>\n",
       "    .dataframe tbody tr th:only-of-type {\n",
       "        vertical-align: middle;\n",
       "    }\n",
       "\n",
       "    .dataframe tbody tr th {\n",
       "        vertical-align: top;\n",
       "    }\n",
       "\n",
       "    .dataframe thead th {\n",
       "        text-align: right;\n",
       "    }\n",
       "</style>\n",
       "<table border=\"1\" class=\"dataframe\">\n",
       "  <thead>\n",
       "    <tr style=\"text-align: right;\">\n",
       "      <th></th>\n",
       "      <th>dt_of_fr</th>\n",
       "      <th>fr_yn</th>\n",
       "      <th>bldng_us</th>\n",
       "      <th>bldng_archtctr</th>\n",
       "      <th>bldng_cnt</th>\n",
       "      <th>bldng_ar</th>\n",
       "      <th>ttl_ar</th>\n",
       "      <th>lnd_ar</th>\n",
       "      <th>dt_of_athrztn</th>\n",
       "      <th>ttl_grnd_flr</th>\n",
       "      <th>...</th>\n",
       "      <th>dt_of_fr_mth</th>\n",
       "      <th>season</th>\n",
       "      <th>mean_grndflr_per_bldng</th>\n",
       "      <th>mean_dwnflr_per_bldng</th>\n",
       "      <th>sum_grnd_dwn_flr</th>\n",
       "      <th>bldng_us2</th>\n",
       "      <th>bldng_archtctr2</th>\n",
       "      <th>legality</th>\n",
       "      <th>emd_nm_big</th>\n",
       "      <th>emd_nm_small</th>\n",
       "    </tr>\n",
       "  </thead>\n",
       "  <tbody>\n",
       "    <tr>\n",
       "      <td>2</td>\n",
       "      <td>2016-10-30 14:57</td>\n",
       "      <td>1</td>\n",
       "      <td>공동주택</td>\n",
       "      <td>철근콘크리트구조</td>\n",
       "      <td>1</td>\n",
       "      <td>583.800</td>\n",
       "      <td>2516.7600</td>\n",
       "      <td>1446.0</td>\n",
       "      <td>20001104</td>\n",
       "      <td>5.0</td>\n",
       "      <td>...</td>\n",
       "      <td>10</td>\n",
       "      <td>가을</td>\n",
       "      <td>5.000000</td>\n",
       "      <td>0.000000</td>\n",
       "      <td>5.0</td>\n",
       "      <td>상대적분류</td>\n",
       "      <td>철골콘크리트구조</td>\n",
       "      <td>illegal</td>\n",
       "      <td>창녕군</td>\n",
       "      <td>창녕읍</td>\n",
       "    </tr>\n",
       "    <tr>\n",
       "      <td>5</td>\n",
       "      <td>2018-04-21 15:41</td>\n",
       "      <td>1</td>\n",
       "      <td>단독주택</td>\n",
       "      <td>철근콘크리트구조</td>\n",
       "      <td>1</td>\n",
       "      <td>96.660</td>\n",
       "      <td>149.0400</td>\n",
       "      <td>486.0</td>\n",
       "      <td>20150923</td>\n",
       "      <td>2.0</td>\n",
       "      <td>...</td>\n",
       "      <td>4</td>\n",
       "      <td>봄</td>\n",
       "      <td>2.000000</td>\n",
       "      <td>0.000000</td>\n",
       "      <td>2.0</td>\n",
       "      <td>상대적분류</td>\n",
       "      <td>철골콘크리트구조</td>\n",
       "      <td>illegal</td>\n",
       "      <td>창녕군</td>\n",
       "      <td>창녕읍</td>\n",
       "    </tr>\n",
       "    <tr>\n",
       "      <td>7</td>\n",
       "      <td>2018-03-03 23:11</td>\n",
       "      <td>0</td>\n",
       "      <td>단독주택</td>\n",
       "      <td>벽돌구조</td>\n",
       "      <td>6</td>\n",
       "      <td>92.000</td>\n",
       "      <td>92.0400</td>\n",
       "      <td>230.0</td>\n",
       "      <td>19941121</td>\n",
       "      <td>1.0</td>\n",
       "      <td>...</td>\n",
       "      <td>3</td>\n",
       "      <td>봄</td>\n",
       "      <td>0.166667</td>\n",
       "      <td>0.000000</td>\n",
       "      <td>1.0</td>\n",
       "      <td>상대적분류</td>\n",
       "      <td>석구조</td>\n",
       "      <td>illegal</td>\n",
       "      <td>창녕군</td>\n",
       "      <td>창녕읍</td>\n",
       "    </tr>\n",
       "    <tr>\n",
       "      <td>12</td>\n",
       "      <td>2017-07-17 13:15</td>\n",
       "      <td>1</td>\n",
       "      <td>공동주택</td>\n",
       "      <td>철근콘크리트구조</td>\n",
       "      <td>3</td>\n",
       "      <td>1046.400</td>\n",
       "      <td>12067.3800</td>\n",
       "      <td>230.0</td>\n",
       "      <td>19921224</td>\n",
       "      <td>17.0</td>\n",
       "      <td>...</td>\n",
       "      <td>7</td>\n",
       "      <td>여름</td>\n",
       "      <td>5.666667</td>\n",
       "      <td>0.333333</td>\n",
       "      <td>18.0</td>\n",
       "      <td>상대적분류</td>\n",
       "      <td>철골콘크리트구조</td>\n",
       "      <td>illegal</td>\n",
       "      <td>창녕군</td>\n",
       "      <td>창녕읍</td>\n",
       "    </tr>\n",
       "    <tr>\n",
       "      <td>13</td>\n",
       "      <td>2016-11-02 12:54</td>\n",
       "      <td>0</td>\n",
       "      <td>단독주택</td>\n",
       "      <td>철근콘크리트구조</td>\n",
       "      <td>1</td>\n",
       "      <td>44.220</td>\n",
       "      <td>129.5500</td>\n",
       "      <td>82.0</td>\n",
       "      <td>19940201</td>\n",
       "      <td>3.0</td>\n",
       "      <td>...</td>\n",
       "      <td>11</td>\n",
       "      <td>가을</td>\n",
       "      <td>3.000000</td>\n",
       "      <td>0.000000</td>\n",
       "      <td>3.0</td>\n",
       "      <td>상대적분류</td>\n",
       "      <td>철골콘크리트구조</td>\n",
       "      <td>legal</td>\n",
       "      <td>창녕군</td>\n",
       "      <td>창녕읍</td>\n",
       "    </tr>\n",
       "    <tr>\n",
       "      <td>...</td>\n",
       "      <td>...</td>\n",
       "      <td>...</td>\n",
       "      <td>...</td>\n",
       "      <td>...</td>\n",
       "      <td>...</td>\n",
       "      <td>...</td>\n",
       "      <td>...</td>\n",
       "      <td>...</td>\n",
       "      <td>...</td>\n",
       "      <td>...</td>\n",
       "      <td>...</td>\n",
       "      <td>...</td>\n",
       "      <td>...</td>\n",
       "      <td>...</td>\n",
       "      <td>...</td>\n",
       "      <td>...</td>\n",
       "      <td>...</td>\n",
       "      <td>...</td>\n",
       "      <td>...</td>\n",
       "      <td>...</td>\n",
       "      <td>...</td>\n",
       "    </tr>\n",
       "    <tr>\n",
       "      <td>59185</td>\n",
       "      <td>2016-03-04 14:50</td>\n",
       "      <td>1</td>\n",
       "      <td>제2종근린생활시설</td>\n",
       "      <td>블록구조</td>\n",
       "      <td>4</td>\n",
       "      <td>241.420</td>\n",
       "      <td>457.2500</td>\n",
       "      <td>230.0</td>\n",
       "      <td>19921016</td>\n",
       "      <td>5.0</td>\n",
       "      <td>...</td>\n",
       "      <td>3</td>\n",
       "      <td>봄</td>\n",
       "      <td>1.250000</td>\n",
       "      <td>0.000000</td>\n",
       "      <td>5.0</td>\n",
       "      <td>상대적분류</td>\n",
       "      <td>석구조</td>\n",
       "      <td>legal</td>\n",
       "      <td>함안군</td>\n",
       "      <td>군북면</td>\n",
       "    </tr>\n",
       "    <tr>\n",
       "      <td>59186</td>\n",
       "      <td>2018-07-21 12:53</td>\n",
       "      <td>0</td>\n",
       "      <td>제2종근린생활시설</td>\n",
       "      <td>일반철골구조</td>\n",
       "      <td>1</td>\n",
       "      <td>151.000</td>\n",
       "      <td>171.2000</td>\n",
       "      <td>813.0</td>\n",
       "      <td>20140618</td>\n",
       "      <td>2.0</td>\n",
       "      <td>...</td>\n",
       "      <td>7</td>\n",
       "      <td>여름</td>\n",
       "      <td>2.000000</td>\n",
       "      <td>0.000000</td>\n",
       "      <td>2.0</td>\n",
       "      <td>상대적분류</td>\n",
       "      <td>철골콘크리트구조</td>\n",
       "      <td>illegal</td>\n",
       "      <td>함안군</td>\n",
       "      <td>칠서면</td>\n",
       "    </tr>\n",
       "    <tr>\n",
       "      <td>59187</td>\n",
       "      <td>2018-06-05 10:43</td>\n",
       "      <td>0</td>\n",
       "      <td>NaN</td>\n",
       "      <td>NaN</td>\n",
       "      <td>9</td>\n",
       "      <td>12144.580</td>\n",
       "      <td>12520.5300</td>\n",
       "      <td>0.0</td>\n",
       "      <td>0</td>\n",
       "      <td>5.0</td>\n",
       "      <td>...</td>\n",
       "      <td>6</td>\n",
       "      <td>여름</td>\n",
       "      <td>0.555556</td>\n",
       "      <td>0.000000</td>\n",
       "      <td>5.0</td>\n",
       "      <td>절대적분류</td>\n",
       "      <td>철골콘크리트구조</td>\n",
       "      <td>legal</td>\n",
       "      <td>함안군</td>\n",
       "      <td>법수면</td>\n",
       "    </tr>\n",
       "    <tr>\n",
       "      <td>59195</td>\n",
       "      <td>2016-10-29 10:10</td>\n",
       "      <td>0</td>\n",
       "      <td>NaN</td>\n",
       "      <td>NaN</td>\n",
       "      <td>35</td>\n",
       "      <td>5593.711</td>\n",
       "      <td>54835.0382</td>\n",
       "      <td>0.0</td>\n",
       "      <td>0</td>\n",
       "      <td>171.0</td>\n",
       "      <td>...</td>\n",
       "      <td>10</td>\n",
       "      <td>가을</td>\n",
       "      <td>4.885714</td>\n",
       "      <td>0.000000</td>\n",
       "      <td>171.0</td>\n",
       "      <td>절대적분류</td>\n",
       "      <td>철골콘크리트구조</td>\n",
       "      <td>legal</td>\n",
       "      <td>함안군</td>\n",
       "      <td>칠원읍</td>\n",
       "    </tr>\n",
       "    <tr>\n",
       "      <td>59196</td>\n",
       "      <td>2018-03-03 19:49</td>\n",
       "      <td>0</td>\n",
       "      <td>NaN</td>\n",
       "      <td>NaN</td>\n",
       "      <td>2</td>\n",
       "      <td>2436.820</td>\n",
       "      <td>2468.8000</td>\n",
       "      <td>6512.0</td>\n",
       "      <td>0</td>\n",
       "      <td>4.0</td>\n",
       "      <td>...</td>\n",
       "      <td>3</td>\n",
       "      <td>봄</td>\n",
       "      <td>2.000000</td>\n",
       "      <td>0.000000</td>\n",
       "      <td>4.0</td>\n",
       "      <td>절대적분류</td>\n",
       "      <td>철골콘크리트구조</td>\n",
       "      <td>legal</td>\n",
       "      <td>함안군</td>\n",
       "      <td>법수면</td>\n",
       "    </tr>\n",
       "  </tbody>\n",
       "</table>\n",
       "<p>16849 rows × 193 columns</p>\n",
       "</div>"
      ],
      "text/plain": [
       "               dt_of_fr  fr_yn   bldng_us bldng_archtctr  bldng_cnt  \\\n",
       "2      2016-10-30 14:57      1       공동주택       철근콘크리트구조          1   \n",
       "5      2018-04-21 15:41      1       단독주택       철근콘크리트구조          1   \n",
       "7      2018-03-03 23:11      0       단독주택           벽돌구조          6   \n",
       "12     2017-07-17 13:15      1       공동주택       철근콘크리트구조          3   \n",
       "13     2016-11-02 12:54      0       단독주택       철근콘크리트구조          1   \n",
       "...                 ...    ...        ...            ...        ...   \n",
       "59185  2016-03-04 14:50      1  제2종근린생활시설           블록구조          4   \n",
       "59186  2018-07-21 12:53      0  제2종근린생활시설         일반철골구조          1   \n",
       "59187  2018-06-05 10:43      0        NaN            NaN          9   \n",
       "59195  2016-10-29 10:10      0        NaN            NaN         35   \n",
       "59196  2018-03-03 19:49      0        NaN            NaN          2   \n",
       "\n",
       "        bldng_ar      ttl_ar  lnd_ar  dt_of_athrztn  ttl_grnd_flr  ...  \\\n",
       "2        583.800   2516.7600  1446.0       20001104           5.0  ...   \n",
       "5         96.660    149.0400   486.0       20150923           2.0  ...   \n",
       "7         92.000     92.0400   230.0       19941121           1.0  ...   \n",
       "12      1046.400  12067.3800   230.0       19921224          17.0  ...   \n",
       "13        44.220    129.5500    82.0       19940201           3.0  ...   \n",
       "...          ...         ...     ...            ...           ...  ...   \n",
       "59185    241.420    457.2500   230.0       19921016           5.0  ...   \n",
       "59186    151.000    171.2000   813.0       20140618           2.0  ...   \n",
       "59187  12144.580  12520.5300     0.0              0           5.0  ...   \n",
       "59195   5593.711  54835.0382     0.0              0         171.0  ...   \n",
       "59196   2436.820   2468.8000  6512.0              0           4.0  ...   \n",
       "\n",
       "       dt_of_fr_mth season  mean_grndflr_per_bldng  mean_dwnflr_per_bldng  \\\n",
       "2                10     가을                5.000000               0.000000   \n",
       "5                 4      봄                2.000000               0.000000   \n",
       "7                 3      봄                0.166667               0.000000   \n",
       "12                7     여름                5.666667               0.333333   \n",
       "13               11     가을                3.000000               0.000000   \n",
       "...             ...    ...                     ...                    ...   \n",
       "59185             3      봄                1.250000               0.000000   \n",
       "59186             7     여름                2.000000               0.000000   \n",
       "59187             6     여름                0.555556               0.000000   \n",
       "59195            10     가을                4.885714               0.000000   \n",
       "59196             3      봄                2.000000               0.000000   \n",
       "\n",
       "       sum_grnd_dwn_flr  bldng_us2  bldng_archtctr2  legality  emd_nm_big  \\\n",
       "2                   5.0      상대적분류         철골콘크리트구조   illegal         창녕군   \n",
       "5                   2.0      상대적분류         철골콘크리트구조   illegal         창녕군   \n",
       "7                   1.0      상대적분류              석구조   illegal         창녕군   \n",
       "12                 18.0      상대적분류         철골콘크리트구조   illegal         창녕군   \n",
       "13                  3.0      상대적분류         철골콘크리트구조     legal         창녕군   \n",
       "...                 ...        ...              ...       ...         ...   \n",
       "59185               5.0      상대적분류              석구조     legal         함안군   \n",
       "59186               2.0      상대적분류         철골콘크리트구조   illegal         함안군   \n",
       "59187               5.0      절대적분류         철골콘크리트구조     legal         함안군   \n",
       "59195             171.0      절대적분류         철골콘크리트구조     legal         함안군   \n",
       "59196               4.0      절대적분류         철골콘크리트구조     legal         함안군   \n",
       "\n",
       "       emd_nm_small  \n",
       "2               창녕읍  \n",
       "5               창녕읍  \n",
       "7               창녕읍  \n",
       "12              창녕읍  \n",
       "13              창녕읍  \n",
       "...             ...  \n",
       "59185           군북면  \n",
       "59186           칠서면  \n",
       "59187           법수면  \n",
       "59195           칠원읍  \n",
       "59196           법수면  \n",
       "\n",
       "[16849 rows x 193 columns]"
      ]
     },
     "execution_count": 45,
     "metadata": {},
     "output_type": "execute_result"
    }
   ],
   "source": [
    "fd.dt_of_fr_pp(data)\n",
    "fd.dt_of_athrztn_pp(data)\n",
    "fd.season_pp(data)\n",
    "fd.flr_pp(data)\n",
    "fd.bldng_us_pp(data)\n",
    "fd.bldng_archtctr_pp(data)\n",
    "fd.fr_wthr_fclt_pp(data)\n",
    "fd.tbc_pp(data)\n",
    "fd.bldng_clssfctn_pp(data)\n",
    "fd.ar_pp(data)\n",
    "fd.rgnl_ar_nm_modi(data)\n",
    "fd.lnd_us_sttn_nm_modi1(data)\n",
    "fd.lnd_us_sttn_nm_modi2(data)\n",
    "fd.emd_nm_modi(data)"
   ]
  },
  {
   "cell_type": "code",
   "execution_count": 46,
   "metadata": {},
   "outputs": [],
   "source": [
    "#건물 승인 연도별 시각화\n",
    "data['blng_y']=data.loc[:,'dt_of_athrztn'].astype('str').str[:4]\n",
    "data['blng_y']=data['blng_y'].astype('int')\n",
    "data['bldng_y']=data['blng_y'].apply(lambda x: 1960 if (x>1959) & (x<1970) else x)\n",
    "data['blng_y']=data['blng_y'].apply(lambda x: 1970 if (x>1969) & (x<1980) else x)\n",
    "data['blng_y']=data['blng_y'].apply(lambda x: 1980 if (x>1979) & (x<1990) else x)\n",
    "data['blng_y']=data['blng_y'].apply(lambda x: 1990 if (x>1989) & (x<2000) else x)\n",
    "data['blng_y']=data['blng_y'].apply(lambda x: 2000 if (x>1999) & (x<2010) else x)\n",
    "data['blng_y']=data['blng_y'].apply(lambda x: 2010 if (x>2009) & (x<2020) else x)"
   ]
  },
  {
   "cell_type": "code",
   "execution_count": 47,
   "metadata": {},
   "outputs": [
    {
     "data": {
      "text/plain": [
       "(1950, 2020)"
      ]
     },
     "execution_count": 47,
     "metadata": {},
     "output_type": "execute_result"
    },
    {
     "data": {
      "image/png": "[encoded data removed]",
      "text/plain": [
       "<Figure size 432x288 with 1 Axes>"
      ]
     },
     "metadata": {
      "needs_background": "light"
     },
     "output_type": "display_data"
    }
   ],
   "source": [
    "d1=data[['blng_y','fr_yn']]\n",
    "d2=d1.set_index('blng_y')\n",
    "d1=d1.pivot_table(index='blng_y', aggfunc='sum')\n",
    "d2=d1.pivot_table(index='blng_y',aggfunc='sum')\n",
    "d2.plot()\n",
    "plt.xlim([1950,2020])"
   ]
  },
  {
   "cell_type": "code",
   "execution_count": 48,
   "metadata": {},
   "outputs": [
    {
     "data": {
      "text/plain": [
       "<matplotlib.axes._subplots.AxesSubplot at 0x7fc4a00be550>"
      ]
     },
     "execution_count": 48,
     "metadata": {},
     "output_type": "execute_result"
    },
    {
     "data": {
      "image/png": "[encoded data removed]",
      "text/plain": [
       "<Figure size 432x288 with 1 Axes>"
      ]
     },
     "metadata": {
      "needs_background": "light"
     },
     "output_type": "display_data"
    }
   ],
   "source": [
    "#계절별 화재빈도 시각화\n",
    "df1=data[['fr_yn','season']]\n",
    "df2=df1.set_index('season')\n",
    "df2=df1.pivot_table(index='season', aggfunc='sum')\n",
    "df2.plot.bar()"
   ]
  },
  {
   "cell_type": "code",
   "execution_count": 49,
   "metadata": {},
   "outputs": [
    {
     "data": {
      "text/plain": [
       "(0, 20)"
      ]
     },
     "execution_count": 49,
     "metadata": {},
     "output_type": "execute_result"
    },
    {
     "data": {
      "image/png": "[encoded data removed]",
      "text/plain": [
       "<Figure size 432x288 with 1 Axes>"
      ]
     },
     "metadata": {
      "needs_background": "light"
     },
     "output_type": "display_data"
    }
   ],
   "source": [
    "dm1=data[['sum_grnd_dwn_flr','fr_yn']]\n",
    "dm1.drop('fr_yn',axis=1)\n",
    "dm2=dm1.pivot_table(index='sum_grnd_dwn_flr',aggfunc='sum')\n",
    "dm2.plot()\n",
    "plt.xlim([0,20])"
   ]
  },
  {
   "cell_type": "code",
   "execution_count": 50,
   "metadata": {},
   "outputs": [
    {
     "data": {
      "text/plain": [
       "<matplotlib.axes._subplots.AxesSubplot at 0x7fc4a0161ac8>"
      ]
     },
     "execution_count": 50,
     "metadata": {},
     "output_type": "execute_result"
    },
    {
     "data": {
      "image/png": "[encoded data removed]",
      "text/plain": [
       "<Figure size 432x288 with 1 Axes>"
      ]
     },
     "metadata": {
      "needs_background": "light"
     },
     "output_type": "display_data"
    }
   ],
   "source": [
    "#건물용도별 화재 시각화\n",
    "da1=data[['bldng_us2','fr_yn']]\n",
    "da1.drop('fr_yn',axis=1)\n",
    "da2=da1.pivot_table(index='bldng_us2', aggfunc='sum')\n",
    "da2.plot.barh()"
   ]
  },
  {
   "cell_type": "code",
   "execution_count": 51,
   "metadata": {},
   "outputs": [
    {
     "data": {
      "text/plain": [
       "<matplotlib.axes._subplots.AxesSubplot at 0x7fc4a01300f0>"
      ]
     },
     "execution_count": 51,
     "metadata": {},
     "output_type": "execute_result"
    },
    {
     "data": {
      "image/png": "[encoded data removed]",
      "text/plain": [
       "<Figure size 432x288 with 1 Axes>"
      ]
     },
     "metadata": {
      "needs_background": "light"
     },
     "output_type": "display_data"
    }
   ],
   "source": [
    "#건물구조별 화재 시각화\n",
    "dq1=data[['bldng_archtctr2','fr_yn']]\n",
    "dq2=dq1.pivot_table(index='bldng_archtctr2', aggfunc='sum')\n",
    "dq2.plot.barh(fontsize=6)"
   ]
  },
  {
   "cell_type": "code",
   "execution_count": 52,
   "metadata": {},
   "outputs": [
    {
     "data": {
      "text/plain": [
       "<matplotlib.axes._subplots.AxesSubplot at 0x7fc4a0047278>"
      ]
     },
     "execution_count": 52,
     "metadata": {},
     "output_type": "execute_result"
    },
    {
     "data": {
      "image/png": "[encoded data removed]",
      "text/plain": [
       "<Figure size 432x288 with 1 Axes>"
      ]
     },
     "metadata": {
      "needs_background": "light"
     },
     "output_type": "display_data"
    }
   ],
   "source": [
    "#건물 용도명 화재 시각화\n",
    "dw1=data[['bldng_us_clssfctn','fr_yn']]\n",
    "dw2=dw1.pivot_table(index='bldng_us_clssfctn', aggfunc='sum')\n",
    "dw2.plot.barh()"
   ]
  },
  {
   "cell_type": "code",
   "execution_count": 53,
   "metadata": {},
   "outputs": [
    {
     "data": {
      "image/png": "[encoded data removed]",
      "text/plain": [
       "<Figure size 432x288 with 1 Axes>"
      ]
     },
     "metadata": {
      "needs_background": "light"
     },
     "output_type": "display_data"
    },
    {
     "data": {
      "image/png": "[encoded data removed]",
      "text/plain": [
       "<Figure size 432x288 with 1 Axes>"
      ]
     },
     "metadata": {
      "needs_background": "light"
     },
     "output_type": "display_data"
    },
    {
     "data": {
      "image/png": "[encoded data removed]",
      "text/plain": [
       "<Figure size 432x288 with 1 Axes>"
      ]
     },
     "metadata": {
      "needs_background": "light"
     },
     "output_type": "display_data"
    }
   ],
   "source": [
    "#건물 건축면적 data.bldng_ar    (건물 1층 바닥면적)\n",
    "#건물 연면적 data.ttl_ar        (각 층 바닥면적의 합계)\n",
    "#토지면적 data.lnd_ar           (집을 지을수 있는 땅)\n",
    "\n",
    "data.boxplot(column=[\"bldng_ar\"])     #이상치 값이 너무 높음 평균값 x -> 결측치 (중간값) 처리\n",
    "plt.show()\n",
    "\n",
    "data.boxplot(column=[\"ttl_ar\"])\n",
    "plt.show()\n",
    "\n",
    "data.boxplot(column=[\"lnd_ar\"])\n",
    "plt.show()"
   ]
  },
  {
   "cell_type": "code",
   "execution_count": 54,
   "metadata": {
    "scrolled": true
   },
   "outputs": [
    {
     "data": {
      "text/plain": [
       "<matplotlib.axes._subplots.AxesSubplot at 0x7fc49bdb5a58>"
      ]
     },
     "execution_count": 54,
     "metadata": {},
     "output_type": "execute_result"
    },
    {
     "data": {
      "image/png": "[encoded data removed]",
      "text/plain": [
       "<Figure size 432x288 with 1 Axes>"
      ]
     },
     "metadata": {
      "needs_background": "light"
     },
     "output_type": "display_data"
    }
   ],
   "source": [
    "#건물면적 범위 화재 시각화 \n",
    "data['bldnng_ar1']=data.loc[:,'dt_of_athrztn'].astype('str').str[:4]\n",
    "\n",
    "data['bldng_ar1']=data['bldng_ar'].apply(lambda x: 100 if (x<101) else x)\n",
    "data['bldng_ar1']=data['bldng_ar1'].astype('int')\n",
    "data['bldng_ar1']=data['bldng_ar1'].apply(lambda x: 300 if (x>=101) & (x<301)   else x)\n",
    "data['bldng_ar1']=data['bldng_ar1'].apply(lambda x: 600 if (x>=301) & (x<601)   else x)\n",
    "data['bldng_ar1']=data['bldng_ar1'].apply(lambda x: 1000 if (x>=601) & (x<1001) else x)\n",
    "data['bldng_ar1']=data['bldng_ar1'].apply(lambda x: 1000 if(x>=1001) &(x>1000)  else x)\n",
    "\n",
    "de1=data[['bldng_ar1','fr_yn']]\n",
    "de2=de1.pivot_table(index='bldng_ar1', aggfunc='sum')\n",
    "de2.plot.bar()"
   ]
  },
  {
   "cell_type": "code",
   "execution_count": 55,
   "metadata": {},
   "outputs": [],
   "source": [
    "categorical_cols = all_data.select_dtypes(['object']).columns\n",
    "for col in categorical_cols:\n",
    "    all_data[col] = pd.Categorical(all_data[col]).codes\n",
    "\n",
    "X_train = all_data[:len(train)]\n",
    "X_val = all_data[len(train):-len(test)]\n",
    "test = all_data[-len(test):]"
   ]
  },
  {
   "cell_type": "code",
   "execution_count": 56,
   "metadata": {},
   "outputs": [],
   "source": [
    "X_train = X_train.fillna(-1)\n",
    "X_val = X_val.fillna(-1)\n",
    "test = test.fillna(-1)"
   ]
  },
  {
   "cell_type": "code",
   "execution_count": 57,
   "metadata": {},
   "outputs": [
    {
     "data": {
      "text/plain": [
       "0.5774278215223096"
      ]
     },
     "execution_count": 57,
     "metadata": {},
     "output_type": "execute_result"
    }
   ],
   "source": [
    "from  sklearn.ensemble import RandomForestClassifier\n",
    "\n",
    "model = RandomForestClassifier(n_jobs=-1, n_estimators=100, random_state=42)\n",
    "model.fit(X_train, y_train)\n",
    "\n",
    "y_pred = model.predict(X_val)\n",
    "\n",
    "f1_score(y_val, y_pred, pos_label='Y')"
   ]
  },
  {
   "cell_type": "code",
   "execution_count": 58,
   "metadata": {},
   "outputs": [],
   "source": [
    "best_score = 0\n",
    "\n",
    "for max_features in range(1,30) :\n",
    "    for max_depth in (1, 10) :\n",
    "        model = RandomForestClassifier(n_jobs=-1, n_estimators=100, max_features = max_features, max_depth = max_depth)\n",
    "        model.fit(X_train, y_train)\n",
    "        y_pred = model.predict(X_val)\n",
    "        score = f1_score(y_val, y_pred, average='weighted', labels=np.unique(y_pred))\n",
    "        if score > best_score :\n",
    "            best_score = score\n",
    "            best_parameters = { 'max_features' : max_features, 'max_depth' : max_depth }\n",
    "        "
   ]
  },
  {
   "cell_type": "code",
   "execution_count": 64,
   "metadata": {},
   "outputs": [
    {
     "ename": "AttributeError",
     "evalue": "'DataFrame' object has no attribute 'data'",
     "output_type": "error",
     "traceback": [
      "\u001b[0;31m---------------------------------------------------------------------------\u001b[0m",
      "\u001b[0;31mAttributeError\u001b[0m                            Traceback (most recent call last)",
      "\u001b[0;32m<ipython-input-64-b04f6bdc4296>\u001b[0m in \u001b[0;36m<module>\u001b[0;34m\u001b[0m\n\u001b[0;32m----> 1\u001b[0;31m \u001b[0mX_train\u001b[0m\u001b[0;34m.\u001b[0m\u001b[0mdata\u001b[0m\u001b[0;34m\u001b[0m\u001b[0m\n\u001b[0m",
      "\u001b[0;32m/opt/app-root/lib/python3.6/site-packages/pandas/core/generic.py\u001b[0m in \u001b[0;36m__getattr__\u001b[0;34m(self, name)\u001b[0m\n\u001b[1;32m   5177\u001b[0m             \u001b[0;32mif\u001b[0m \u001b[0mself\u001b[0m\u001b[0;34m.\u001b[0m\u001b[0m_info_axis\u001b[0m\u001b[0;34m.\u001b[0m\u001b[0m_can_hold_identifiers_and_holds_name\u001b[0m\u001b[0;34m(\u001b[0m\u001b[0mname\u001b[0m\u001b[0;34m)\u001b[0m\u001b[0;34m:\u001b[0m\u001b[0;34m\u001b[0m\u001b[0m\n\u001b[1;32m   5178\u001b[0m                 \u001b[0;32mreturn\u001b[0m \u001b[0mself\u001b[0m\u001b[0;34m[\u001b[0m\u001b[0mname\u001b[0m\u001b[0;34m]\u001b[0m\u001b[0;34m\u001b[0m\u001b[0m\n\u001b[0;32m-> 5179\u001b[0;31m             \u001b[0;32mreturn\u001b[0m \u001b[0mobject\u001b[0m\u001b[0;34m.\u001b[0m\u001b[0m__getattribute__\u001b[0m\u001b[0;34m(\u001b[0m\u001b[0mself\u001b[0m\u001b[0;34m,\u001b[0m \u001b[0mname\u001b[0m\u001b[0;34m)\u001b[0m\u001b[0;34m\u001b[0m\u001b[0m\n\u001b[0m\u001b[1;32m   5180\u001b[0m \u001b[0;34m\u001b[0m\u001b[0m\n\u001b[1;32m   5181\u001b[0m     \u001b[0;32mdef\u001b[0m \u001b[0m__setattr__\u001b[0m\u001b[0;34m(\u001b[0m\u001b[0mself\u001b[0m\u001b[0;34m,\u001b[0m \u001b[0mname\u001b[0m\u001b[0;34m,\u001b[0m \u001b[0mvalue\u001b[0m\u001b[0;34m)\u001b[0m\u001b[0;34m:\u001b[0m\u001b[0;34m\u001b[0m\u001b[0m\n",
      "\u001b[0;31mAttributeError\u001b[0m: 'DataFrame' object has no attribute 'data'"
     ]
    }
   ],
   "source": [
    "X_train.data"
   ]
  }
 ],
 "metadata": {
  "kernelspec": {
   "display_name": "Python 3",
   "language": "python",
   "name": "python3"
  },
  "language_info": {
   "codemirror_mode": {
    "name": "ipython",
    "version": 3
   },
   "file_extension": ".py",
   "mimetype": "text/x-python",
   "name": "python",
   "nbconvert_exporter": "python",
   "pygments_lexer": "ipython3",
   "version": "3.6.3"
  }
 },
 "nbformat": 4,
 "nbformat_minor": 2
}
